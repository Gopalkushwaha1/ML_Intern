{
  "cells": [
    {
      "cell_type": "code",
      "execution_count": null,
      "metadata": {
        "id": "G_9KehRUE0Wa"
      },
      "outputs": [],
      "source": [
        "%pip install selenium"
      ]
    },
    {
      "cell_type": "code",
      "execution_count": null,
      "metadata": {
        "id": "MX1boizGE0Wa"
      },
      "outputs": [],
      "source": [
        "%pip install webdriver-manager"
      ]
    },
    {
      "cell_type": "code",
      "execution_count": null,
      "metadata": {
        "id": "q7UpQvADE0Wb"
      },
      "outputs": [],
      "source": [
        "import pandas as pd\n",
        "import numpy as np\n",
        "from datetime import datetime\n",
        "import time\n",
        "from bs4 import BeautifulSoup\n",
        "import requests\n"
      ]
    },
    {
      "cell_type": "code",
      "execution_count": null,
      "metadata": {
        "id": "gLOD8h21E0Wb"
      },
      "outputs": [],
      "source": [
        "politics_df = pd.DataFrame(columns=['headline', 'link', 'date_time', 'author', 'image_url'])"
      ]
    },
    {
      "cell_type": "code",
      "execution_count": null,
      "metadata": {
        "id": "yhTtrVgzE0Wb"
      },
      "outputs": [],
      "source": [
        "# function to scrape the headline of the article\n",
        "def scrape_google_news_headline():\n",
        "    url = 'https://news.google.com/search?q=bhubaneswar%20politics&hl=en-IN&gl=IN&ceid=IN%3Aen'\n",
        "    response = requests.get(url)\n",
        "    soup = BeautifulSoup(response.content, 'html.parser')\n",
        "    headlines = soup.find_all('a', class_='JtKRv')\n",
        "\n",
        "    # add headlines to pandas df\n",
        "    headline_texts = [headline.text for headline in headlines]\n",
        "    politics_df['headline'] = headline_texts\n",
        "\n"
      ]
    },
    {
      "cell_type": "code",
      "execution_count": null,
      "metadata": {
        "id": "gEqgGlzhE0Wb",
        "outputId": "7c02d90f-ce3c-472a-b496-e4fa0d6e8e08"
      },
      "outputs": [
        {
          "data": {
            "text/html": [
              "<div>\n",
              "<style scoped>\n",
              "    .dataframe tbody tr th:only-of-type {\n",
              "        vertical-align: middle;\n",
              "    }\n",
              "\n",
              "    .dataframe tbody tr th {\n",
              "        vertical-align: top;\n",
              "    }\n",
              "\n",
              "    .dataframe thead th {\n",
              "        text-align: right;\n",
              "    }\n",
              "</style>\n",
              "<table border=\"1\" class=\"dataframe\">\n",
              "  <thead>\n",
              "    <tr style=\"text-align: right;\">\n",
              "      <th></th>\n",
              "      <th>headline</th>\n",
              "      <th>link</th>\n",
              "      <th>date_time</th>\n",
              "      <th>author</th>\n",
              "      <th>image_url</th>\n",
              "    </tr>\n",
              "  </thead>\n",
              "  <tbody>\n",
              "    <tr>\n",
              "      <th>0</th>\n",
              "      <td>Bhubaneswar: Odisha CM Mohan Charan Majhi atte...</td>\n",
              "      <td>NaN</td>\n",
              "      <td>NaN</td>\n",
              "      <td>NaN</td>\n",
              "      <td>NaN</td>\n",
              "    </tr>\n",
              "    <tr>\n",
              "      <th>1</th>\n",
              "      <td>Odisha government declares holiday for schools...</td>\n",
              "      <td>NaN</td>\n",
              "      <td>NaN</td>\n",
              "      <td>NaN</td>\n",
              "      <td>NaN</td>\n",
              "    </tr>\n",
              "    <tr>\n",
              "      <th>2</th>\n",
              "      <td>Odisha Govt To Build Park In Bhubaneswar In Me...</td>\n",
              "      <td>NaN</td>\n",
              "      <td>NaN</td>\n",
              "      <td>NaN</td>\n",
              "      <td>NaN</td>\n",
              "    </tr>\n",
              "    <tr>\n",
              "      <th>3</th>\n",
              "      <td>Odisha declares half-day holiday in Bhubaneswa...</td>\n",
              "      <td>NaN</td>\n",
              "      <td>NaN</td>\n",
              "      <td>NaN</td>\n",
              "      <td>NaN</td>\n",
              "    </tr>\n",
              "    <tr>\n",
              "      <th>4</th>\n",
              "      <td>Bhubaneswar: Odisha CM Meets Assam CM – #Gallery</td>\n",
              "      <td>NaN</td>\n",
              "      <td>NaN</td>\n",
              "      <td>NaN</td>\n",
              "      <td>NaN</td>\n",
              "    </tr>\n",
              "  </tbody>\n",
              "</table>\n",
              "</div>"
            ],
            "text/plain": [
              "                                            headline link date_time author  \\\n",
              "0  Bhubaneswar: Odisha CM Mohan Charan Majhi atte...  NaN       NaN    NaN   \n",
              "1  Odisha government declares holiday for schools...  NaN       NaN    NaN   \n",
              "2  Odisha Govt To Build Park In Bhubaneswar In Me...  NaN       NaN    NaN   \n",
              "3  Odisha declares half-day holiday in Bhubaneswa...  NaN       NaN    NaN   \n",
              "4   Bhubaneswar: Odisha CM Meets Assam CM – #Gallery  NaN       NaN    NaN   \n",
              "\n",
              "  image_url  \n",
              "0       NaN  \n",
              "1       NaN  \n",
              "2       NaN  \n",
              "3       NaN  \n",
              "4       NaN  "
            ]
          },
          "execution_count": 13,
          "metadata": {},
          "output_type": "execute_result"
        }
      ],
      "source": [
        "scrape_google_news_headline()\n",
        "politics_df.head()"
      ]
    },
    {
      "cell_type": "code",
      "execution_count": null,
      "metadata": {
        "id": "JbHYRlgJE0Wb"
      },
      "outputs": [],
      "source": [
        "# function to scrape the link of the article\n",
        "def scrape_google_news_link():\n",
        "    url = 'https://news.google.com/search?q=bhubaneswar%20politics&hl=en-IN&gl=IN&ceid=IN%3Aen'\n",
        "    response = requests.get(url)\n",
        "    soup = BeautifulSoup(response.content, 'html.parser')\n",
        "\n",
        "    links = soup.find_all('a', class_='WwrzSb')\n",
        "    link_texts = [link['href'] for link in links]\n",
        "    politics_df['link'] = link_texts\n",
        "\n",
        "    # format the link to include the full url\n",
        "    politics_df['link'] = 'https://news.google.com' + politics_df['link']"
      ]
    },
    {
      "cell_type": "code",
      "execution_count": null,
      "metadata": {
        "id": "6aX5clQcE0Wc",
        "outputId": "1eade342-b26c-4628-ea65-6ca4d6e05524"
      },
      "outputs": [
        {
          "name": "stdout",
          "output_type": "stream",
          "text": [
            "0: Bhubaneswar: Odisha CM Mohan Charan Majhi attends the joint conference of the District Collector and Superintendent of Police #Gallery\n",
            "Link: https://news.google.com./read/CBMigAJBVV95cUxNUFgtQ0FReVRaV0dxSEJpQlp1ejNDc3FGcjZ5TjRoTFd0dG5ob0dSSzZDX0hONnN5SG9IS2lNZ3dqQVczd1ktbWh5ZVp5U24wMDI2YjVGLTA3Q2lzN1FTcnB6TGhkMGJOTkVBZDhGUlNqVTllTWd2UXBmR3liQ281TFN4WUlYb2xjYmNiUHdxV0tKcDc5OVJpcENzd3VWMG83NU8ycEp1OTdocW9PbVk3T1FyRWRjTDJuOXM4X0JJV1hPWDFlWmlPRWVuelk5QUNtUlIwTnFXNUM1ZHMyTkkyR2F1X3FOUW84ajdMSFdpWkVnNmxQOFFEVHlNOC1tOGE00gGAAkFVX3lxTE1QWC1DQVF5VFpXR3FIQmlCWnV6M0NzcUZyNnlONGhMV3R0bmhvR1JLNkNfSE42c3lIb0hLaU1nd2pBVzN3WS1taHllWnlTbjAwMjZiNUYtMDdDaXM3UVNycHpMaGQwYk5ORUFkOEZSU2pVOWVNZ3ZRcGZHeWJDbzVMU3hZSVhvbGNiY2JQd3FXS0pwNzk5UmlwQ3N3dVYwbzc1TzJwSnU5N2hxb09tWTdPUXJFZGNMMm45czhfQklXWE9YMWVaaU9FZW56WTlBQ21SUjBOcVc1QzVkczJOSTJHYXVfcU5RbzhqN0xIV2laRWc2bFA4UURUeU04LW04YTQ?hl=en-IN&gl=IN&ceid=IN%3Aen\n",
            "\n",
            "1: Odisha government declares holiday for schools, colleges in Bhubaneswar on September 17 in view of PM Modi\n",
            "Link: https://news.google.com./read/CBMiiAJBVV95cUxPbjljMzcxRXRzLXEyeUZ6NlJhU3BiYzRwM2tsMkEtNTJfWUoxRmp5cUlKbEhpT1pRa2tEYXlORVVpWXppa2pLWm1kaWR1OUNHTEIzaDlFR3gwR3RiWHl3bUc1bWhOblpsd080Z1RzRzNkdFNmWERjcmk1MTE3aTV3ZGRCTS01RDNKYUhaeGV3S05wMFdrcDk2MUZjXzJDUW1TTkpNWncyUmxtQzZUbnJlT0Y2eVNYckNDcllQNVNiMGdSdTRKdzZ4YjV1QTJCUm90dW5ueG5jM0tOckNjZzE4WjVhd2VkNUQtMkh5NEVUMy03NXkzZlEtNnR3ZUx3VWRtOWFyMFQ0NVbSAY4CQVVfeXFMUF9lcDVGRzBnemRTa1hZU25ZU3o2Wloxa01DMXRubTI2OXpLM21uWk5NeVhJVGRoTkdZZUtZbnVYNGpwdDRNU0J3QnJWdE84a2gyRlNsMmdpUERacHU1UndCODhpQklEbjh4NHNfeTVmV3ZRLVF0SDJ0VW8tdEZBY0VETFRZazd6V1c1UUZTS3FyRUZzd0ZUZTlNeV9JTl9taDFfMGwxQVhJWlRGNlphd1hYcWRUYlM5WlJFTDlvT2Q2VXY0SkVhT3YtUFlUczhKZXBfVUJ4aGJPUUpIY1pIVGpvRnJBS0JZX05NRlVyVEpFY3pLSTl1U0tEQmhKY3AxZlV2cEwyOUs4SjMxSzNR?hl=en-IN&gl=IN&ceid=IN%3Aen\n",
            "\n",
            "2: Odisha Govt To Build Park In Bhubaneswar In Memory Of Pandit Deendayal Upadhyay\n",
            "Link: https://news.google.com./read/CBMitAFBVV95cUxQQ0Yxb0kzdzRQRXJIWkZEdUpFT3RqWUg5MEZTRG1oN0dMa1AzU0xka203SmJtc0RCWS1BMl9BMkp5MFJmN2JuN1BPdGdsMFNzSUtzeXg4Y1M0VHdaYmVaOTZNTTQ1MUZMQS1FenZGWGRrQkpNSU9YU3lfc1RuY2Q1Uko0bXljZHBTai1XVlBzRUxIUHNWak9xZ3pnWlJzZVZHVTNXdTB3aXVHMllKMThaVHoydC0?hl=en-IN&gl=IN&ceid=IN%3Aen\n",
            "\n",
            "3: Odisha declares half-day holiday in Bhubaneswar on June 12 for swearing-in of new government\n",
            "Link: https://news.google.com./read/CBMi3wFBVV95cUxPcUZ5TjZ1VXVBbElpR2cyQS03ejY4UDFTNWlPSFAtbDNXaC1sRGtKQmp1ci1XZ2NQQzJNTHhzc2FZZzktLVBXMWZPRnZfTUh2TklfbG42MXVkN3NqVlJURWVwUkEzU3llQnRpbk9GT3I5Z3l1QVNqcm9lMTBRcDROSmx3TzREbFo2XzRmTEtTRzJXeDZsRWZpa3F2cExKX0c3SzFvY3VJSi0zNzdrbHhyOTdHcmN1NnRjam5aUGp4MjRDcTh4TTZzSkZIRVNLUW1ELWZrd2xTaXg5UlBJd29r?hl=en-IN&gl=IN&ceid=IN%3Aen\n",
            "\n",
            "4: Bhubaneswar: Odisha CM Meets Assam CM – #Gallery\n",
            "Link: https://news.google.com./read/CBMiiwFBVV95cUxQeWpRY05FREhOLVhibEszOXQ4UUVKZGgwRmxfUEh4cnVLTEZpTi1zNWtONDF0YkNYRUpoTXQ1TllYYUx5SGxJYllab0FyRUtVVDdQZWJQY2xmUWthTUZWWjJJWFRwRVVPaUlfWkFkdFJvNGtrLVItOGxJSC16U1ltdFNIY3ZyLTZkdzRJ0gGLAUFVX3lxTFB5alFjTkVESE4tWGJsSzM5dDhRRUpkaDBGbF9QSHhydUtMRmlOLXM1a040MXRiQ1hFSmhNdDVOWVhhTHlIbEliWVpvQXJFS1VUN1BlYlBjbGZRa2FNRlZaMklYVHBFVU9pSV9aQWR0Um80a2stUi04bElILXpTWW10U0hjdnItNmR3NEk?hl=en-IN&gl=IN&ceid=IN%3Aen\n",
            "\n"
          ]
        }
      ],
      "source": [
        "scrape_google_news_link()\n",
        "start = int(input('Enter the start index: '))\n",
        "end = int(input('Enter the end index: '))\n",
        "for i in range(start, end):\n",
        "    print(f'{i}: {politics_df.iloc[i][\"headline\"]}')\n",
        "    print(f'Link: {politics_df.iloc[i][\"link\"]}')\n",
        "    print()"
      ]
    },
    {
      "cell_type": "code",
      "execution_count": null,
      "metadata": {
        "id": "1iMWv_wnE0Wc",
        "outputId": "9b61c6bc-edd1-4787-c9e9-45d64b985391"
      },
      "outputs": [
        {
          "data": {
            "text/html": [
              "<div>\n",
              "<style scoped>\n",
              "    .dataframe tbody tr th:only-of-type {\n",
              "        vertical-align: middle;\n",
              "    }\n",
              "\n",
              "    .dataframe tbody tr th {\n",
              "        vertical-align: top;\n",
              "    }\n",
              "\n",
              "    .dataframe thead th {\n",
              "        text-align: right;\n",
              "    }\n",
              "</style>\n",
              "<table border=\"1\" class=\"dataframe\">\n",
              "  <thead>\n",
              "    <tr style=\"text-align: right;\">\n",
              "      <th></th>\n",
              "      <th>headline</th>\n",
              "      <th>link</th>\n",
              "      <th>date_time</th>\n",
              "      <th>author</th>\n",
              "      <th>image_url</th>\n",
              "    </tr>\n",
              "  </thead>\n",
              "  <tbody>\n",
              "    <tr>\n",
              "      <th>0</th>\n",
              "      <td>Bhubaneswar: Odisha CM Mohan Charan Majhi atte...</td>\n",
              "      <td>https://news.google.com./read/CBMigAJBVV95cUxN...</td>\n",
              "      <td>NaN</td>\n",
              "      <td>NaN</td>\n",
              "      <td>NaN</td>\n",
              "    </tr>\n",
              "    <tr>\n",
              "      <th>1</th>\n",
              "      <td>Odisha government declares holiday for schools...</td>\n",
              "      <td>https://news.google.com./read/CBMiiAJBVV95cUxP...</td>\n",
              "      <td>NaN</td>\n",
              "      <td>NaN</td>\n",
              "      <td>NaN</td>\n",
              "    </tr>\n",
              "    <tr>\n",
              "      <th>2</th>\n",
              "      <td>Odisha Govt To Build Park In Bhubaneswar In Me...</td>\n",
              "      <td>https://news.google.com./read/CBMitAFBVV95cUxQ...</td>\n",
              "      <td>NaN</td>\n",
              "      <td>NaN</td>\n",
              "      <td>NaN</td>\n",
              "    </tr>\n",
              "    <tr>\n",
              "      <th>3</th>\n",
              "      <td>Odisha declares half-day holiday in Bhubaneswa...</td>\n",
              "      <td>https://news.google.com./read/CBMi3wFBVV95cUxP...</td>\n",
              "      <td>NaN</td>\n",
              "      <td>NaN</td>\n",
              "      <td>NaN</td>\n",
              "    </tr>\n",
              "    <tr>\n",
              "      <th>4</th>\n",
              "      <td>Bhubaneswar: Odisha CM Meets Assam CM – #Gallery</td>\n",
              "      <td>https://news.google.com./read/CBMiiwFBVV95cUxQ...</td>\n",
              "      <td>NaN</td>\n",
              "      <td>NaN</td>\n",
              "      <td>NaN</td>\n",
              "    </tr>\n",
              "  </tbody>\n",
              "</table>\n",
              "</div>"
            ],
            "text/plain": [
              "                                            headline  \\\n",
              "0  Bhubaneswar: Odisha CM Mohan Charan Majhi atte...   \n",
              "1  Odisha government declares holiday for schools...   \n",
              "2  Odisha Govt To Build Park In Bhubaneswar In Me...   \n",
              "3  Odisha declares half-day holiday in Bhubaneswa...   \n",
              "4   Bhubaneswar: Odisha CM Meets Assam CM – #Gallery   \n",
              "\n",
              "                                                link date_time author  \\\n",
              "0  https://news.google.com./read/CBMigAJBVV95cUxN...       NaN    NaN   \n",
              "1  https://news.google.com./read/CBMiiAJBVV95cUxP...       NaN    NaN   \n",
              "2  https://news.google.com./read/CBMitAFBVV95cUxQ...       NaN    NaN   \n",
              "3  https://news.google.com./read/CBMi3wFBVV95cUxP...       NaN    NaN   \n",
              "4  https://news.google.com./read/CBMiiwFBVV95cUxQ...       NaN    NaN   \n",
              "\n",
              "  image_url  \n",
              "0       NaN  \n",
              "1       NaN  \n",
              "2       NaN  \n",
              "3       NaN  \n",
              "4       NaN  "
            ]
          },
          "execution_count": 20,
          "metadata": {},
          "output_type": "execute_result"
        }
      ],
      "source": [
        "politics_df.head()"
      ]
    },
    {
      "cell_type": "code",
      "execution_count": null,
      "metadata": {
        "id": "YBgfGWUuE0Wc"
      },
      "outputs": [],
      "source": [
        "# function to scrape the date_time of the article\n",
        "def scrape_google_news_date_time():\n",
        "    url = 'https://news.google.com/search?q=bhubaneswar%20politics&hl=en-IN&gl=IN&ceid=IN%3Aen'\n",
        "    response = requests.get(url)\n",
        "    soup = BeautifulSoup(response.content, 'html.parser')\n",
        "\n",
        "    date_times = []\n",
        "    time_elements = soup.find_all('time', class_='hvbAAd')\n",
        "    for time_element in time_elements:\n",
        "        if time_element.has_attr('datetime'):\n",
        "            date_time = datetime.strptime(time_element['datetime'], \"%Y-%m-%dT%H:%M:%SZ\")\n",
        "            date_times.append(date_time)\n",
        "\n",
        "    politics_df['date_time'] = date_times"
      ]
    },
    {
      "cell_type": "code",
      "execution_count": null,
      "metadata": {
        "id": "YDCF6lNNE0Wc",
        "outputId": "69b7739a-9610-4a89-83bd-5da2a2696df7"
      },
      "outputs": [
        {
          "data": {
            "text/html": [
              "<div>\n",
              "<style scoped>\n",
              "    .dataframe tbody tr th:only-of-type {\n",
              "        vertical-align: middle;\n",
              "    }\n",
              "\n",
              "    .dataframe tbody tr th {\n",
              "        vertical-align: top;\n",
              "    }\n",
              "\n",
              "    .dataframe thead th {\n",
              "        text-align: right;\n",
              "    }\n",
              "</style>\n",
              "<table border=\"1\" class=\"dataframe\">\n",
              "  <thead>\n",
              "    <tr style=\"text-align: right;\">\n",
              "      <th></th>\n",
              "      <th>headline</th>\n",
              "      <th>link</th>\n",
              "      <th>date_time</th>\n",
              "      <th>author</th>\n",
              "      <th>image_url</th>\n",
              "    </tr>\n",
              "  </thead>\n",
              "  <tbody>\n",
              "    <tr>\n",
              "      <th>0</th>\n",
              "      <td>Bhubaneswar: Odisha CM Mohan Charan Majhi atte...</td>\n",
              "      <td>https://news.google.com./read/CBMigAJBVV95cUxN...</td>\n",
              "      <td>2024-09-28 15:28:17</td>\n",
              "      <td>NaN</td>\n",
              "      <td>NaN</td>\n",
              "    </tr>\n",
              "    <tr>\n",
              "      <th>1</th>\n",
              "      <td>Odisha government declares holiday for schools...</td>\n",
              "      <td>https://news.google.com./read/CBMiiAJBVV95cUxP...</td>\n",
              "      <td>2024-09-25 16:37:21</td>\n",
              "      <td>NaN</td>\n",
              "      <td>NaN</td>\n",
              "    </tr>\n",
              "    <tr>\n",
              "      <th>2</th>\n",
              "      <td>Odisha Govt To Build Park In Bhubaneswar In Me...</td>\n",
              "      <td>https://news.google.com./read/CBMitAFBVV95cUxQ...</td>\n",
              "      <td>2024-09-15 07:00:00</td>\n",
              "      <td>NaN</td>\n",
              "      <td>NaN</td>\n",
              "    </tr>\n",
              "    <tr>\n",
              "      <th>3</th>\n",
              "      <td>Odisha declares half-day holiday in Bhubaneswa...</td>\n",
              "      <td>https://news.google.com./read/CBMi3wFBVV95cUxP...</td>\n",
              "      <td>2024-06-09 07:00:00</td>\n",
              "      <td>NaN</td>\n",
              "      <td>NaN</td>\n",
              "    </tr>\n",
              "    <tr>\n",
              "      <th>4</th>\n",
              "      <td>Bhubaneswar: Odisha CM Meets Assam CM – #Gallery</td>\n",
              "      <td>https://news.google.com./read/CBMiiwFBVV95cUxQ...</td>\n",
              "      <td>2024-06-10 07:00:00</td>\n",
              "      <td>NaN</td>\n",
              "      <td>NaN</td>\n",
              "    </tr>\n",
              "  </tbody>\n",
              "</table>\n",
              "</div>"
            ],
            "text/plain": [
              "                                            headline  \\\n",
              "0  Bhubaneswar: Odisha CM Mohan Charan Majhi atte...   \n",
              "1  Odisha government declares holiday for schools...   \n",
              "2  Odisha Govt To Build Park In Bhubaneswar In Me...   \n",
              "3  Odisha declares half-day holiday in Bhubaneswa...   \n",
              "4   Bhubaneswar: Odisha CM Meets Assam CM – #Gallery   \n",
              "\n",
              "                                                link           date_time  \\\n",
              "0  https://news.google.com./read/CBMigAJBVV95cUxN... 2024-09-28 15:28:17   \n",
              "1  https://news.google.com./read/CBMiiAJBVV95cUxP... 2024-09-25 16:37:21   \n",
              "2  https://news.google.com./read/CBMitAFBVV95cUxQ... 2024-09-15 07:00:00   \n",
              "3  https://news.google.com./read/CBMi3wFBVV95cUxP... 2024-06-09 07:00:00   \n",
              "4  https://news.google.com./read/CBMiiwFBVV95cUxQ... 2024-06-10 07:00:00   \n",
              "\n",
              "  author image_url  \n",
              "0    NaN       NaN  \n",
              "1    NaN       NaN  \n",
              "2    NaN       NaN  \n",
              "3    NaN       NaN  \n",
              "4    NaN       NaN  "
            ]
          },
          "execution_count": 22,
          "metadata": {},
          "output_type": "execute_result"
        }
      ],
      "source": [
        "scrape_google_news_date_time()\n",
        "politics_df.head()"
      ]
    },
    {
      "cell_type": "code",
      "execution_count": null,
      "metadata": {
        "id": "cKjb6D2LE0Wc"
      },
      "outputs": [],
      "source": [
        "# function to scrape the name of the author of the article\n",
        "# def scrape_google_news_author():\n",
        "#     url = 'https://news.google.com/search?q=bhubaneswar%20politics&hl=en-IN&gl=IN&ceid=IN%3Aen'\n",
        "#     response = requests.get(url)\n",
        "#     soup = BeautifulSoup(response.content, 'html.parser')\n",
        "#     authors = []\n",
        "#     author_elements = soup.find_all('div', class_='bInasb')\n",
        "#     for author_element in author_elements:\n",
        "#         span = author_element.find('span')\n",
        "#         if span and span.text.startswith('By '):\n",
        "#             authors.append(span.text[3:])  # Remove 'By ' from the beginning\n",
        "#         else:\n",
        "#             authors.append(None)\n",
        "\n",
        "#     # ensure that the length of the authors list is the same as the length of the politics_df\n",
        "#     if len(authors) < len(politics_df):\n",
        "#         authors += [None] * (len(politics_df) - len(authors))\n",
        "\n",
        "#     politics_df['author'] = authors"
      ]
    },
    {
      "cell_type": "code",
      "execution_count": null,
      "metadata": {
        "id": "8Tb-hbuCE0Wc",
        "outputId": "90fdc151-84b9-4d20-9ba8-4be9987915ee"
      },
      "outputs": [
        {
          "data": {
            "text/html": [
              "<div>\n",
              "<style scoped>\n",
              "    .dataframe tbody tr th:only-of-type {\n",
              "        vertical-align: middle;\n",
              "    }\n",
              "\n",
              "    .dataframe tbody tr th {\n",
              "        vertical-align: top;\n",
              "    }\n",
              "\n",
              "    .dataframe thead th {\n",
              "        text-align: right;\n",
              "    }\n",
              "</style>\n",
              "<table border=\"1\" class=\"dataframe\">\n",
              "  <thead>\n",
              "    <tr style=\"text-align: right;\">\n",
              "      <th></th>\n",
              "      <th>headline</th>\n",
              "      <th>link</th>\n",
              "      <th>date_time</th>\n",
              "      <th>author</th>\n",
              "      <th>image_url</th>\n",
              "    </tr>\n",
              "  </thead>\n",
              "  <tbody>\n",
              "    <tr>\n",
              "      <th>0</th>\n",
              "      <td>Bhubaneswar: Odisha CM Mohan Charan Majhi atte...</td>\n",
              "      <td>https://news.google.com./read/CBMigAJBVV95cUxN...</td>\n",
              "      <td>2024-09-28 15:28:17</td>\n",
              "      <td>Satyasundar Barik</td>\n",
              "      <td>NaN</td>\n",
              "    </tr>\n",
              "    <tr>\n",
              "      <th>1</th>\n",
              "      <td>Odisha government declares holiday for schools...</td>\n",
              "      <td>https://news.google.com./read/CBMiiAJBVV95cUxP...</td>\n",
              "      <td>2024-09-25 16:37:21</td>\n",
              "      <td>Debabrata Mohapatra</td>\n",
              "      <td>NaN</td>\n",
              "    </tr>\n",
              "    <tr>\n",
              "      <th>2</th>\n",
              "      <td>Odisha Govt To Build Park In Bhubaneswar In Me...</td>\n",
              "      <td>https://news.google.com./read/CBMitAFBVV95cUxQ...</td>\n",
              "      <td>2024-09-15 07:00:00</td>\n",
              "      <td>Sampad Patnaik</td>\n",
              "      <td>NaN</td>\n",
              "    </tr>\n",
              "    <tr>\n",
              "      <th>3</th>\n",
              "      <td>Odisha declares half-day holiday in Bhubaneswa...</td>\n",
              "      <td>https://news.google.com./read/CBMi3wFBVV95cUxP...</td>\n",
              "      <td>2024-06-09 07:00:00</td>\n",
              "      <td>Satyasundar Barik</td>\n",
              "      <td>NaN</td>\n",
              "    </tr>\n",
              "    <tr>\n",
              "      <th>4</th>\n",
              "      <td>Bhubaneswar: Odisha CM Meets Assam CM – #Gallery</td>\n",
              "      <td>https://news.google.com./read/CBMiiwFBVV95cUxQ...</td>\n",
              "      <td>2024-06-10 07:00:00</td>\n",
              "      <td>Satyasundar Barik</td>\n",
              "      <td>NaN</td>\n",
              "    </tr>\n",
              "  </tbody>\n",
              "</table>\n",
              "</div>"
            ],
            "text/plain": [
              "                                            headline  \\\n",
              "0  Bhubaneswar: Odisha CM Mohan Charan Majhi atte...   \n",
              "1  Odisha government declares holiday for schools...   \n",
              "2  Odisha Govt To Build Park In Bhubaneswar In Me...   \n",
              "3  Odisha declares half-day holiday in Bhubaneswa...   \n",
              "4   Bhubaneswar: Odisha CM Meets Assam CM – #Gallery   \n",
              "\n",
              "                                                link           date_time  \\\n",
              "0  https://news.google.com./read/CBMigAJBVV95cUxN... 2024-09-28 15:28:17   \n",
              "1  https://news.google.com./read/CBMiiAJBVV95cUxP... 2024-09-25 16:37:21   \n",
              "2  https://news.google.com./read/CBMitAFBVV95cUxQ... 2024-09-15 07:00:00   \n",
              "3  https://news.google.com./read/CBMi3wFBVV95cUxP... 2024-06-09 07:00:00   \n",
              "4  https://news.google.com./read/CBMiiwFBVV95cUxQ... 2024-06-10 07:00:00   \n",
              "\n",
              "                author image_url  \n",
              "0    Satyasundar Barik       NaN  \n",
              "1  Debabrata Mohapatra       NaN  \n",
              "2       Sampad Patnaik       NaN  \n",
              "3    Satyasundar Barik       NaN  \n",
              "4    Satyasundar Barik       NaN  "
            ]
          },
          "execution_count": 24,
          "metadata": {},
          "output_type": "execute_result"
        }
      ],
      "source": [
        "# scrape_google_news_author()\n",
        "# politics_df.head()"
      ]
    },
    {
      "cell_type": "code",
      "execution_count": null,
      "metadata": {
        "id": "DqB22rhZE0Wc",
        "outputId": "428afcd9-608d-4377-be61-75ba125d8bc6"
      },
      "outputs": [
        {
          "data": {
            "text/html": [
              "<div>\n",
              "<style scoped>\n",
              "    .dataframe tbody tr th:only-of-type {\n",
              "        vertical-align: middle;\n",
              "    }\n",
              "\n",
              "    .dataframe tbody tr th {\n",
              "        vertical-align: top;\n",
              "    }\n",
              "\n",
              "    .dataframe thead th {\n",
              "        text-align: right;\n",
              "    }\n",
              "</style>\n",
              "<table border=\"1\" class=\"dataframe\">\n",
              "  <thead>\n",
              "    <tr style=\"text-align: right;\">\n",
              "      <th></th>\n",
              "      <th>headline</th>\n",
              "      <th>link</th>\n",
              "      <th>date_time</th>\n",
              "      <th>author</th>\n",
              "      <th>image_url</th>\n",
              "      <th>summary</th>\n",
              "    </tr>\n",
              "  </thead>\n",
              "  <tbody>\n",
              "    <tr>\n",
              "      <th>0</th>\n",
              "      <td>Bhubaneswar: Odisha CM Mohan Charan Majhi atte...</td>\n",
              "      <td>https://news.google.com./read/CBMigAJBVV95cUxN...</td>\n",
              "      <td>2024-09-28 15:28:17</td>\n",
              "      <td>Satyasundar Barik</td>\n",
              "      <td>NaN</td>\n",
              "      <td>NaN</td>\n",
              "    </tr>\n",
              "    <tr>\n",
              "      <th>1</th>\n",
              "      <td>Odisha government declares holiday for schools...</td>\n",
              "      <td>https://news.google.com./read/CBMiiAJBVV95cUxP...</td>\n",
              "      <td>2024-09-25 16:37:21</td>\n",
              "      <td>Debabrata Mohapatra</td>\n",
              "      <td>NaN</td>\n",
              "      <td>NaN</td>\n",
              "    </tr>\n",
              "    <tr>\n",
              "      <th>2</th>\n",
              "      <td>Odisha Govt To Build Park In Bhubaneswar In Me...</td>\n",
              "      <td>https://news.google.com./read/CBMitAFBVV95cUxQ...</td>\n",
              "      <td>2024-09-15 07:00:00</td>\n",
              "      <td>Sampad Patnaik</td>\n",
              "      <td>NaN</td>\n",
              "      <td>NaN</td>\n",
              "    </tr>\n",
              "    <tr>\n",
              "      <th>3</th>\n",
              "      <td>Odisha declares half-day holiday in Bhubaneswa...</td>\n",
              "      <td>https://news.google.com./read/CBMi3wFBVV95cUxP...</td>\n",
              "      <td>2024-06-09 07:00:00</td>\n",
              "      <td>Satyasundar Barik</td>\n",
              "      <td>NaN</td>\n",
              "      <td>NaN</td>\n",
              "    </tr>\n",
              "    <tr>\n",
              "      <th>4</th>\n",
              "      <td>Bhubaneswar: Odisha CM Meets Assam CM – #Gallery</td>\n",
              "      <td>https://news.google.com./read/CBMiiwFBVV95cUxQ...</td>\n",
              "      <td>2024-06-10 07:00:00</td>\n",
              "      <td>Satyasundar Barik</td>\n",
              "      <td>NaN</td>\n",
              "      <td>NaN</td>\n",
              "    </tr>\n",
              "  </tbody>\n",
              "</table>\n",
              "</div>"
            ],
            "text/plain": [
              "                                            headline  \\\n",
              "0  Bhubaneswar: Odisha CM Mohan Charan Majhi atte...   \n",
              "1  Odisha government declares holiday for schools...   \n",
              "2  Odisha Govt To Build Park In Bhubaneswar In Me...   \n",
              "3  Odisha declares half-day holiday in Bhubaneswa...   \n",
              "4   Bhubaneswar: Odisha CM Meets Assam CM – #Gallery   \n",
              "\n",
              "                                                link           date_time  \\\n",
              "0  https://news.google.com./read/CBMigAJBVV95cUxN... 2024-09-28 15:28:17   \n",
              "1  https://news.google.com./read/CBMiiAJBVV95cUxP... 2024-09-25 16:37:21   \n",
              "2  https://news.google.com./read/CBMitAFBVV95cUxQ... 2024-09-15 07:00:00   \n",
              "3  https://news.google.com./read/CBMi3wFBVV95cUxP... 2024-06-09 07:00:00   \n",
              "4  https://news.google.com./read/CBMiiwFBVV95cUxQ... 2024-06-10 07:00:00   \n",
              "\n",
              "                author image_url  summary  \n",
              "0    Satyasundar Barik       NaN      NaN  \n",
              "1  Debabrata Mohapatra       NaN      NaN  \n",
              "2       Sampad Patnaik       NaN      NaN  \n",
              "3    Satyasundar Barik       NaN      NaN  \n",
              "4    Satyasundar Barik       NaN      NaN  "
            ]
          },
          "execution_count": 26,
          "metadata": {},
          "output_type": "execute_result"
        }
      ],
      "source": [
        "# add summary column to the dataframe\n",
        "politics_df['summary'] = np.nan\n",
        "politics_df.head()"
      ]
    },
    {
      "cell_type": "code",
      "execution_count": null,
      "metadata": {
        "id": "GMfnY0_-E0Wc"
      },
      "outputs": [],
      "source": [
        "from selenium import webdriver\n",
        "from selenium.webdriver.common.by import By\n",
        "from selenium.webdriver.support.ui import WebDriverWait\n",
        "from selenium.webdriver.support import expected_conditions as EC\n",
        "from selenium.webdriver.chrome.service import Service\n",
        "from webdriver_manager.chrome import ChromeDriverManager\n",
        "import pandas as pd\n",
        "import time\n"
      ]
    },
    {
      "cell_type": "code",
      "execution_count": null,
      "metadata": {
        "id": "mYp67ztoE0Wc",
        "outputId": "014d0931-b93b-490f-867c-07bf516e3869"
      },
      "outputs": [
        {
          "data": {
            "text/html": [
              "<div>\n",
              "<style scoped>\n",
              "    .dataframe tbody tr th:only-of-type {\n",
              "        vertical-align: middle;\n",
              "    }\n",
              "\n",
              "    .dataframe tbody tr th {\n",
              "        vertical-align: top;\n",
              "    }\n",
              "\n",
              "    .dataframe thead th {\n",
              "        text-align: right;\n",
              "    }\n",
              "</style>\n",
              "<table border=\"1\" class=\"dataframe\">\n",
              "  <thead>\n",
              "    <tr style=\"text-align: right;\">\n",
              "      <th></th>\n",
              "      <th>headline</th>\n",
              "      <th>link</th>\n",
              "      <th>date_time</th>\n",
              "      <th>author</th>\n",
              "      <th>image_url</th>\n",
              "      <th>summary</th>\n",
              "    </tr>\n",
              "  </thead>\n",
              "  <tbody>\n",
              "    <tr>\n",
              "      <th>0</th>\n",
              "      <td>Bhubaneswar: Odisha CM Mohan Charan Majhi atte...</td>\n",
              "      <td>https://news.google.com./read/CBMigAJBVV95cUxN...</td>\n",
              "      <td>2024-09-28 15:28:17</td>\n",
              "      <td>Satyasundar Barik</td>\n",
              "      <td>NaN</td>\n",
              "      <td>NaN</td>\n",
              "    </tr>\n",
              "    <tr>\n",
              "      <th>1</th>\n",
              "      <td>Odisha government declares holiday for schools...</td>\n",
              "      <td>https://news.google.com./read/CBMiiAJBVV95cUxP...</td>\n",
              "      <td>2024-09-25 16:37:21</td>\n",
              "      <td>Debabrata Mohapatra</td>\n",
              "      <td>NaN</td>\n",
              "      <td>NaN</td>\n",
              "    </tr>\n",
              "    <tr>\n",
              "      <th>2</th>\n",
              "      <td>Odisha Govt To Build Park In Bhubaneswar In Me...</td>\n",
              "      <td>https://news.google.com./read/CBMitAFBVV95cUxQ...</td>\n",
              "      <td>2024-09-15 07:00:00</td>\n",
              "      <td>Sampad Patnaik</td>\n",
              "      <td>NaN</td>\n",
              "      <td>NaN</td>\n",
              "    </tr>\n",
              "    <tr>\n",
              "      <th>3</th>\n",
              "      <td>Odisha declares half-day holiday in Bhubaneswa...</td>\n",
              "      <td>https://news.google.com./read/CBMi3wFBVV95cUxP...</td>\n",
              "      <td>2024-06-09 07:00:00</td>\n",
              "      <td>Satyasundar Barik</td>\n",
              "      <td>NaN</td>\n",
              "      <td>NaN</td>\n",
              "    </tr>\n",
              "    <tr>\n",
              "      <th>4</th>\n",
              "      <td>Bhubaneswar: Odisha CM Meets Assam CM – #Gallery</td>\n",
              "      <td>https://news.google.com./read/CBMiiwFBVV95cUxQ...</td>\n",
              "      <td>2024-06-10 07:00:00</td>\n",
              "      <td>Satyasundar Barik</td>\n",
              "      <td>NaN</td>\n",
              "      <td>NaN</td>\n",
              "    </tr>\n",
              "  </tbody>\n",
              "</table>\n",
              "</div>"
            ],
            "text/plain": [
              "                                            headline  \\\n",
              "0  Bhubaneswar: Odisha CM Mohan Charan Majhi atte...   \n",
              "1  Odisha government declares holiday for schools...   \n",
              "2  Odisha Govt To Build Park In Bhubaneswar In Me...   \n",
              "3  Odisha declares half-day holiday in Bhubaneswa...   \n",
              "4   Bhubaneswar: Odisha CM Meets Assam CM – #Gallery   \n",
              "\n",
              "                                                link           date_time  \\\n",
              "0  https://news.google.com./read/CBMigAJBVV95cUxN... 2024-09-28 15:28:17   \n",
              "1  https://news.google.com./read/CBMiiAJBVV95cUxP... 2024-09-25 16:37:21   \n",
              "2  https://news.google.com./read/CBMitAFBVV95cUxQ... 2024-09-15 07:00:00   \n",
              "3  https://news.google.com./read/CBMi3wFBVV95cUxP... 2024-06-09 07:00:00   \n",
              "4  https://news.google.com./read/CBMiiwFBVV95cUxQ... 2024-06-10 07:00:00   \n",
              "\n",
              "                author image_url  summary  \n",
              "0    Satyasundar Barik       NaN      NaN  \n",
              "1  Debabrata Mohapatra       NaN      NaN  \n",
              "2       Sampad Patnaik       NaN      NaN  \n",
              "3    Satyasundar Barik       NaN      NaN  \n",
              "4    Satyasundar Barik       NaN      NaN  "
            ]
          },
          "execution_count": 32,
          "metadata": {},
          "output_type": "execute_result"
        }
      ],
      "source": [
        "politics_df_copy = politics_df.copy()\n",
        "politics_df_copy.head()"
      ]
    },
    {
      "cell_type": "code",
      "execution_count": null,
      "metadata": {
        "id": "NIAQ0mPCE0Wc",
        "outputId": "818da582-7f87-4a0c-e0b7-53977bed008a"
      },
      "outputs": [
        {
          "name": "stdout",
          "output_type": "stream",
          "text": [
            "The Odisha government has announced a holiday for all schools and colleges in Bhubaneswar on September 17 due to Prime Minister Narendra Modi's visit. PM Modi will launch the 'SUBHADRA' scheme, aimed at benefiting over 1 crore women. He will also release funds to PMAY-G beneficiaries and launch the Awaas+ 2024 App for additional household surveys.\n"
          ]
        },
        {
          "data": {
            "text/plain": [
              "\"The Odisha government has announced a holiday for all schools and colleges in Bhubaneswar on September 17 due to Prime Minister Narendra Modi's visit. PM Modi will launch the 'SUBHADRA' scheme, aimed at benefiting over 1 crore women. He will also release funds to PMAY-G beneficiaries and launch the Awaas+ 2024 App for additional household surveys.\""
            ]
          },
          "execution_count": 38,
          "metadata": {},
          "output_type": "execute_result"
        }
      ],
      "source": [
        "def scrape_article_details(url):\n",
        "    service = Service(ChromeDriverManager().install())\n",
        "    options = webdriver.ChromeOptions()\n",
        "    options.add_argument('--headless')\n",
        "    driver = webdriver.Chrome(service=service, options=options)\n",
        "\n",
        "    try:\n",
        "        driver.get(url)\n",
        "        # wait for page to load\n",
        "        WebDriverWait(driver, 10).until(EC.presence_of_element_located((By.TAG_NAME, 'body')))\n",
        "\n",
        "        # extract summary\n",
        "        summary_elem = driver.find_element(By.CLASS_NAME, 'summary')\n",
        "        summary = summary_elem.text\n",
        "        print(summary)\n",
        "        return summary\n",
        "    except Exception as e:\n",
        "        print(e)\n",
        "        return None\n",
        "    finally:\n",
        "        driver.quit()\n",
        "\n",
        "url = politics_df_copy.iloc[1]['link']\n",
        "scrape_article_details(url)"
      ]
    },
    {
      "cell_type": "code",
      "source": [
        "# sort the data frame according to datetime\n",
        "politics_df = politics_df.sort_values('date_time')"
      ],
      "metadata": {
        "id": "r1oKy_EOt6dz"
      },
      "execution_count": null,
      "outputs": []
    },
    {
      "cell_type": "code",
      "source": [
        "%pip install beautifulsoup4 selenium pandas pyarrow Pillow requests"
      ],
      "metadata": {
        "id": "N5e6oKi8lPTv"
      },
      "execution_count": null,
      "outputs": []
    },
    {
      "cell_type": "code",
      "source": [
        "def scrape_image_url(url):"
      ],
      "metadata": {
        "id": "nndC3Klknxfh"
      },
      "execution_count": null,
      "outputs": []
    },
    {
      "cell_type": "code",
      "execution_count": null,
      "metadata": {
        "id": "AwEiqDnnE0Wc"
      },
      "outputs": [],
      "source": [
        "# convert to csv\n",
        "politics_df.to_csv('politics_without_images_summary.csv', index=False)"
      ]
    }
  ],
  "metadata": {
    "kernelspec": {
      "display_name": "Python 3",
      "language": "python",
      "name": "python3"
    },
    "language_info": {
      "codemirror_mode": {
        "name": "ipython",
        "version": 3
      },
      "file_extension": ".py",
      "mimetype": "text/x-python",
      "name": "python",
      "nbconvert_exporter": "python",
      "pygments_lexer": "ipython3",
      "version": "3.11.4"
    },
    "colab": {
      "provenance": []
    }
  },
  "nbformat": 4,
  "nbformat_minor": 0
}