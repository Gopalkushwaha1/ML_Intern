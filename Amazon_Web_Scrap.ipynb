{
  "nbformat": 4,
  "nbformat_minor": 0,
  "metadata": {
    "colab": {
      "provenance": [],
      "authorship_tag": "ABX9TyOVzjBvocq9n201WRsfuPZO"
    },
    "kernelspec": {
      "name": "python3",
      "display_name": "Python 3"
    },
    "language_info": {
      "name": "python"
    }
  },
  "cells": [
    {
      "cell_type": "code",
      "execution_count": null,
      "metadata": {
        "id": "wSphQmIiLTCq"
      },
      "outputs": [],
      "source": [
        "import requests\n",
        "import pandas as pd\n",
        "from bs4 import BeautifulSoup"
      ]
    },
    {
      "cell_type": "code",
      "source": [
        "headers = {\n",
        "    \"User-Agent\": \"Mozilla/5.0 (Windows NT 10.0; Win64; x64) AppleWebKit/537.36 (KHTML, like Gecko) Chrome/91.0.4472.124 Safari/537.36\",\n",
        "    \"Accept-Language\": \"en-US,en;q=0.9\",\n",
        "    \"Accept-Encoding\": \"gzip, deflate, br\",\n",
        "    \"Connection\": \"keep-alive\",\n",
        "    \"DNT\": \"1\"\n",
        "    \"Upgrade-Insecure-Requests\": \"1\"\n",
        "}\n",
        "\n",
        "web = requests.get(\"https://www.amazon.in/s?k=mobiles&crid=3EQ81A827JPNT&sprefix=mobile%2Caps%2C1004&ref=nb_sb_noss_1\", headers=headers)\n",
        "print(web.status_code)\n"
      ],
      "metadata": {
        "colab": {
          "base_uri": "https://localhost:8080/"
        },
        "id": "l5vxoxRjLmY3",
        "outputId": "23761d8c-5e4d-4875-e7ae-4cc98218c1c5"
      },
      "execution_count": null,
      "outputs": [
        {
          "output_type": "stream",
          "name": "stdout",
          "text": [
            "200\n"
          ]
        }
      ]
    },
    {
      "cell_type": "code",
      "source": [
        "soup = BeautifulSoup(web.content, \"html.parser\")"
      ],
      "metadata": {
        "id": "GjJjAUAYNWW8"
      },
      "execution_count": null,
      "outputs": []
    },
    {
      "cell_type": "code",
      "source": [
        "soup.title"
      ],
      "metadata": {
        "colab": {
          "base_uri": "https://localhost:8080/"
        },
        "id": "DCxV3xLzNbV7",
        "outputId": "89cbb63d-ed98-43f9-c51a-99a11bf0f475"
      },
      "execution_count": null,
      "outputs": [
        {
          "output_type": "execute_result",
          "data": {
            "text/plain": [
              "<title>Amazon.in : mobiles</title>"
            ]
          },
          "metadata": {},
          "execution_count": 8
        }
      ]
    },
    {
      "cell_type": "code",
      "source": [
        "data = soup.find(\"div\" , class_ = \"a-section a-spacing-small a-spacing-top-small\")"
      ],
      "metadata": {
        "id": "RE6qNWBAOdGL"
      },
      "execution_count": null,
      "outputs": []
    },
    {
      "cell_type": "code",
      "source": [
        "len(data)"
      ],
      "metadata": {
        "colab": {
          "base_uri": "https://localhost:8080/"
        },
        "id": "kltVmShbOiC9",
        "outputId": "486dd810-b36f-481c-aa78-60ad7fa45a67"
      },
      "execution_count": null,
      "outputs": [
        {
          "output_type": "execute_result",
          "data": {
            "text/plain": [
              "5"
            ]
          },
          "metadata": {},
          "execution_count": 14
        }
      ]
    },
    {
      "cell_type": "code",
      "source": [
        "len(data.find_all(\"a\" , class_ = \"a-link-normal s-underline-text s-underline-link-text s-link-style a-text-normal\"))"
      ],
      "metadata": {
        "colab": {
          "base_uri": "https://localhost:8080/"
        },
        "id": "jjaWriyHPF0D",
        "outputId": "9618d9d6-1699-4250-f79b-158394c0165a"
      },
      "execution_count": null,
      "outputs": [
        {
          "output_type": "execute_result",
          "data": {
            "text/plain": [
              "0"
            ]
          },
          "metadata": {},
          "execution_count": 29
        }
      ]
    },
    {
      "cell_type": "code",
      "source": [],
      "metadata": {
        "id": "0LrjouXqQusj"
      },
      "execution_count": null,
      "outputs": []
    },
    {
      "cell_type": "code",
      "source": [
        "items = soup.find_all('span', class_='a-size-medium a-color-base a-text-normal')"
      ],
      "metadata": {
        "id": "CQR9V-5SQ-L9"
      },
      "execution_count": null,
      "outputs": []
    },
    {
      "cell_type": "code",
      "source": [
        "product_elements = soup.find_all('span', {'class': 'a-size-medium a-color-base a-text-normal'})"
      ],
      "metadata": {
        "id": "cgpOUjM4S7l6"
      },
      "execution_count": null,
      "outputs": []
    },
    {
      "cell_type": "markdown",
      "source": [
        "#Making List to Store data"
      ],
      "metadata": {
        "id": "3p9QSYpAXjEm"
      }
    },
    {
      "cell_type": "code",
      "source": [
        "mobile_names = []\n",
        "mobile_features = []"
      ],
      "metadata": {
        "id": "tdI7EtZ_VFu_"
      },
      "execution_count": null,
      "outputs": []
    },
    {
      "cell_type": "markdown",
      "source": [
        "#Use for loop to iterate thow all product"
      ],
      "metadata": {
        "id": "rudeBI9DXwj3"
      }
    },
    {
      "cell_type": "code",
      "source": [
        "for product_element in product_elements:\n",
        "    # Extract the product title text\n",
        "    product_title = product_element.get_text(strip=True)\n",
        "\n",
        "    # Check if the title has features in parentheses\n",
        "    if \"(\" in product_title:\n",
        "        name, features_str = product_title.split(\"(\", 1)\n",
        "        mobile_names.append(name.strip())\n",
        "\n",
        "        # Initialize a dictionary to store features\n",
        "        feature_dict = {}\n",
        "\n",
        "        # Clean and split features\n",
        "        features = features_str.replace(\")\", \"\").split(\"|\")\n",
        "\n",
        "        # Step 5: Further split features into categories like color, RAM, etc.\n",
        "        for feature in features:\n",
        "            feature = feature.strip()\n",
        "\n",
        "            # Check for common features like color, RAM, etc.\n",
        "            if \"GB RAM\" in feature:\n",
        "                feature_dict['RAM'] = feature.split(\"GB RAM\")[0].strip() + \"GB\"\n",
        "            elif \"GB Storage\" in feature:\n",
        "                feature_dict['Storage'] = feature.split(\"GB Storage\")[0].strip() + \"GB\"\n",
        "            elif \"Color\" in feature or \"Green\" in feature or \"Blue\" in feature or \"Black\" in feature:  # Expandable for more colors\n",
        "                feature_dict['Color'] = feature\n",
        "            elif \"Battery\" in feature:\n",
        "                feature_dict['Battery'] = feature\n",
        "            else:\n",
        "                # If it doesn't match known features, store it in 'Other'\n",
        "                feature_dict.setdefault('Other', []).append(feature)\n",
        "\n",
        "        # Append the features dictionary to mobile_features\n",
        "        mobile_features.append(feature_dict)\n",
        "\n",
        "# Step 6: Create a pandas DataFrame from the extracted data\n",
        "df = pd.DataFrame({\n",
        "    \"Mobile Name\": mobile_names,\n",
        "    \"Features\": mobile_features\n",
        "})"
      ],
      "metadata": {
        "id": "2PZoE6PqXurb"
      },
      "execution_count": null,
      "outputs": []
    },
    {
      "cell_type": "code",
      "source": [
        "print(df)"
      ],
      "metadata": {
        "colab": {
          "base_uri": "https://localhost:8080/"
        },
        "id": "CadPF-eyZQ1S",
        "outputId": "db84d2ce-43ee-40e6-f739-4c3d0f60ec93"
      },
      "execution_count": null,
      "outputs": [
        {
          "output_type": "stream",
          "name": "stdout",
          "text": [
            "                  Mobile Name  \\\n",
            "0          Samsung Galaxy M05   \n",
            "1             realme GT 6T 5G   \n",
            "2         realme NARZO N65 5G   \n",
            "3         realme NARZO 70x 5G   \n",
            "4                   Redmi 13C   \n",
            "5            realme NARZO N61   \n",
            "6    OnePlus Nord CE4 Lite 5G   \n",
            "7         realme NARZO 70x 5G   \n",
            "8                  POCO M6 5G   \n",
            "9   OnePlus Nord CE 3 Lite 5G   \n",
            "10           realme NARZO N63   \n",
            "11        realme NARZO N65 5G   \n",
            "12        realme NARZO N65 5G   \n",
            "13      Samsung Galaxy M35 5G   \n",
            "14        realme NARZO 70x 5G   \n",
            "15        realme NARZO 70x 5G   \n",
            "\n",
            "                                             Features  \n",
            "0   {'RAM': 'Mint Green, 4GB', 'Other': ['50MP Dua...  \n",
            "1   {'RAM': 'Fluid Silver,8GB', 'Other': ['India's...  \n",
            "2   {'RAM': 'Amber Gold 6GB', 'Other': ['Ultra Sli...  \n",
            "3   {'RAM': 'Ice Blue, 6GB', 'Other': ['120Hz Ultr...  \n",
            "4   {'RAM': 'Starfrost White, 6GB', 'Other': ['Pow...  \n",
            "5   {'RAM': 'Voyage Blue,6GB', 'Other': ['IP54 Dus...  \n",
            "6                        {'RAM': 'Super Silver, 8GB'}  \n",
            "7   {'RAM': 'Forest Green, 6GB', 'Other': ['120Hz ...  \n",
            "8                          {'RAM': 'Orion Blue, 6GB'}  \n",
            "9                      {'RAM': 'Chromatic Gray, 8GB'}  \n",
            "10  {'RAM': 'Leather Blue, 4GB', 'Battery': '5000m...  \n",
            "11  {'RAM': 'Deep Green 4GB', 'Other': ['Ultra Sli...  \n",
            "12  {'RAM': 'Deep Green 6GB', 'Other': ['Ultra Sli...  \n",
            "13  {'RAM': 'Thunder Grey,6GB', 'Other': ['Corning...  \n",
            "14  {'RAM': 'Ice Blue, 8GB', 'Other': ['120Hz Ultr...  \n",
            "15  {'RAM': 'Forest Green, 8GB', 'Other': ['120Hz ...  \n"
          ]
        }
      ]
    },
    {
      "cell_type": "code",
      "source": [
        "df.to_csv('mobiles_with_detailed_features.csv', index=True)"
      ],
      "metadata": {
        "id": "Q9V104qhZ4M8"
      },
      "execution_count": null,
      "outputs": []
    },
    {
      "cell_type": "code",
      "source": [],
      "metadata": {
        "id": "IeyGwS33aORX"
      },
      "execution_count": null,
      "outputs": []
    }
  ]
}